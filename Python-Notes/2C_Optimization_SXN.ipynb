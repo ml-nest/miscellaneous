{
 "cells": [
  {
   "cell_type": "markdown",
   "metadata": {},
   "source": [
    "## Two Constrained Optimisation\n",
    " **Author: Souvik Nath**\n",
    " <br>**Date: 7.19.2019**</br>"
   ]
  },
  {
   "cell_type": "markdown",
   "metadata": {},
   "source": [
    "### Importing libraries"
   ]
  },
  {
   "cell_type": "code",
   "execution_count": 1,
   "metadata": {
    "collapsed": true
   },
   "outputs": [],
   "source": [
    "import pandas as pd\n",
    "import os\n",
    "import numpy as np\n",
    "from IPython.display import display"
   ]
  },
  {
   "cell_type": "code",
   "execution_count": 4,
   "metadata": {
    "collapsed": false
   },
   "outputs": [],
   "source": [
    "os.getcwd()\n",
    "os.chdir('C:\\\\Users\\\\souvik.nath\\\\Desktop')"
   ]
  },
  {
   "cell_type": "markdown",
   "metadata": {},
   "source": [
    "### Reading the necessary files"
   ]
  },
  {
   "cell_type": "code",
   "execution_count": 5,
   "metadata": {
    "collapsed": false
   },
   "outputs": [],
   "source": [
    "tsh=pd.read_csv('TSH.csv')\n",
    "cch=pd.read_csv('CCH.csv')\n",
    "sch=pd.read_csv('SCH.csv')"
   ]
  },
  {
   "cell_type": "code",
   "execution_count": 6,
   "metadata": {
    "collapsed": false
   },
   "outputs": [],
   "source": [
    "tsh.columns = tsh.columns.str.lower()\n",
    "cch.columns = cch.columns.str.lower()\n",
    "sch.columns = sch.columns.str.lower()"
   ]
  },
  {
   "cell_type": "code",
   "execution_count": 7,
   "metadata": {
    "collapsed": false
   },
   "outputs": [
    {
     "data": {
      "text/html": [
       "<div>\n",
       "<table border=\"1\" class=\"dataframe\">\n",
       "  <thead>\n",
       "    <tr style=\"text-align: right;\">\n",
       "      <th></th>\n",
       "      <th>str_nbr</th>\n",
       "      <th>sales</th>\n",
       "    </tr>\n",
       "  </thead>\n",
       "  <tbody>\n",
       "    <tr>\n",
       "      <th>0</th>\n",
       "      <td>105</td>\n",
       "      <td>100250</td>\n",
       "    </tr>\n",
       "    <tr>\n",
       "      <th>1</th>\n",
       "      <td>106</td>\n",
       "      <td>1232890</td>\n",
       "    </tr>\n",
       "    <tr>\n",
       "      <th>2</th>\n",
       "      <td>107</td>\n",
       "      <td>172712</td>\n",
       "    </tr>\n",
       "    <tr>\n",
       "      <th>3</th>\n",
       "      <td>108</td>\n",
       "      <td>123133</td>\n",
       "    </tr>\n",
       "    <tr>\n",
       "      <th>4</th>\n",
       "      <td>109</td>\n",
       "      <td>724332</td>\n",
       "    </tr>\n",
       "  </tbody>\n",
       "</table>\n",
       "</div>"
      ],
      "text/plain": [
       "   str_nbr    sales\n",
       "0      105   100250\n",
       "1      106  1232890\n",
       "2      107   172712\n",
       "3      108   123133\n",
       "4      109   724332"
      ]
     },
     "metadata": {},
     "output_type": "display_data"
    },
    {
     "data": {
      "text/html": [
       "<div>\n",
       "<table border=\"1\" class=\"dataframe\">\n",
       "  <thead>\n",
       "    <tr style=\"text-align: right;\">\n",
       "      <th></th>\n",
       "      <th>dept</th>\n",
       "      <th>class</th>\n",
       "      <th>sales</th>\n",
       "    </tr>\n",
       "  </thead>\n",
       "  <tbody>\n",
       "    <tr>\n",
       "      <th>0</th>\n",
       "      <td>21</td>\n",
       "      <td>1</td>\n",
       "      <td>23134</td>\n",
       "    </tr>\n",
       "    <tr>\n",
       "      <th>1</th>\n",
       "      <td>21</td>\n",
       "      <td>2</td>\n",
       "      <td>253524</td>\n",
       "    </tr>\n",
       "    <tr>\n",
       "      <th>2</th>\n",
       "      <td>21</td>\n",
       "      <td>3</td>\n",
       "      <td>335356</td>\n",
       "    </tr>\n",
       "    <tr>\n",
       "      <th>3</th>\n",
       "      <td>21</td>\n",
       "      <td>4</td>\n",
       "      <td>134535</td>\n",
       "    </tr>\n",
       "    <tr>\n",
       "      <th>4</th>\n",
       "      <td>21</td>\n",
       "      <td>5</td>\n",
       "      <td>332452</td>\n",
       "    </tr>\n",
       "  </tbody>\n",
       "</table>\n",
       "</div>"
      ],
      "text/plain": [
       "   dept  class   sales\n",
       "0    21      1   23134\n",
       "1    21      2  253524\n",
       "2    21      3  335356\n",
       "3    21      4  134535\n",
       "4    21      5  332452"
      ]
     },
     "metadata": {},
     "output_type": "display_data"
    },
    {
     "data": {
      "text/html": [
       "<div>\n",
       "<table border=\"1\" class=\"dataframe\">\n",
       "  <thead>\n",
       "    <tr style=\"text-align: right;\">\n",
       "      <th></th>\n",
       "      <th>str_nbr</th>\n",
       "      <th>dept</th>\n",
       "      <th>class</th>\n",
       "      <th>sales</th>\n",
       "    </tr>\n",
       "  </thead>\n",
       "  <tbody>\n",
       "    <tr>\n",
       "      <th>0</th>\n",
       "      <td>105</td>\n",
       "      <td>21</td>\n",
       "      <td>1</td>\n",
       "      <td>1232</td>\n",
       "    </tr>\n",
       "    <tr>\n",
       "      <th>1</th>\n",
       "      <td>105</td>\n",
       "      <td>21</td>\n",
       "      <td>2</td>\n",
       "      <td>2234</td>\n",
       "    </tr>\n",
       "    <tr>\n",
       "      <th>2</th>\n",
       "      <td>105</td>\n",
       "      <td>21</td>\n",
       "      <td>3</td>\n",
       "      <td>5344</td>\n",
       "    </tr>\n",
       "    <tr>\n",
       "      <th>3</th>\n",
       "      <td>105</td>\n",
       "      <td>21</td>\n",
       "      <td>4</td>\n",
       "      <td>6543</td>\n",
       "    </tr>\n",
       "    <tr>\n",
       "      <th>4</th>\n",
       "      <td>105</td>\n",
       "      <td>21</td>\n",
       "      <td>5</td>\n",
       "      <td>2121</td>\n",
       "    </tr>\n",
       "  </tbody>\n",
       "</table>\n",
       "</div>"
      ],
      "text/plain": [
       "   str_nbr  dept  class  sales\n",
       "0      105    21      1   1232\n",
       "1      105    21      2   2234\n",
       "2      105    21      3   5344\n",
       "3      105    21      4   6543\n",
       "4      105    21      5   2121"
      ]
     },
     "metadata": {},
     "output_type": "display_data"
    }
   ],
   "source": [
    "display(tsh.head())\n",
    "display(cch.head())\n",
    "display(sch.head())"
   ]
  },
  {
   "cell_type": "markdown",
   "metadata": {},
   "source": [
    "### Check for Equality in constraints\n",
    "** <font color=red>NOTE: *If constraints don't match, then revisit the files and treat the differences*</font>**"
   ]
  },
  {
   "cell_type": "code",
   "execution_count": 8,
   "metadata": {
    "collapsed": true
   },
   "outputs": [],
   "source": [
    "def checkconstraint(x,y):\n",
    "    if x.sum()==y.sum():\n",
    "        print('Constraint: True')\n",
    "    else:\n",
    "        print('Constraint: Flase')"
   ]
  },
  {
   "cell_type": "code",
   "execution_count": 9,
   "metadata": {
    "collapsed": false
   },
   "outputs": [
    {
     "name": "stdout",
     "output_type": "stream",
     "text": [
      "Constraint: True\n"
     ]
    }
   ],
   "source": [
    "checkconstraint(tsh.iloc[:,-1],cch.iloc[:,-1])"
   ]
  },
  {
   "cell_type": "markdown",
   "metadata": {},
   "source": [
    "#### Concatenate department and class columns to create one composite key"
   ]
  },
  {
   "cell_type": "code",
   "execution_count": 10,
   "metadata": {
    "collapsed": true
   },
   "outputs": [],
   "source": [
    "def combinecolumn(x):\n",
    "    if set(['dept','class']).issubset(x.columns):\n",
    "        x['deptclass']=x['dept'].map(str)+x['class'].map(str)\n",
    "        y=x[x.columns.difference(['dept','class'])]\n",
    "        return y\n",
    "    else:\n",
    "        return False"
   ]
  },
  {
   "cell_type": "markdown",
   "metadata": {},
   "source": [
    "### Declaring functions for applying absolute gross up methodology on SCH to CCH"
   ]
  },
  {
   "cell_type": "code",
   "execution_count": 11,
   "metadata": {
    "collapsed": true
   },
   "outputs": [],
   "source": [
    "def totaldeptsales(x):\n",
    "    \n",
    "    a=x.groupby(['deptclass'])['sales'].sum().reset_index()\n",
    "    return a \n",
    "\n",
    "def deptsalesdiff(x,y):\n",
    "    \n",
    "    df1=totaldeptsales(x)\n",
    "    df2=totaldeptsales(y)\n",
    "    \n",
    "    res = pd.DataFrame(df1['deptclass'])\n",
    "    res['deptsalesdiff'] = df2.sales-df1.sales\n",
    "    \n",
    "    return res"
   ]
  },
  {
   "cell_type": "code",
   "execution_count": 12,
   "metadata": {
    "collapsed": false
   },
   "outputs": [],
   "source": [
    "def mutatecolumn(df, type):\n",
    "    \n",
    "    if type == 'dept':\n",
    "        df['totaldeptsales'] = df['sales'].groupby(df['deptclass']).transform('sum')\n",
    "    elif type == 'store':\n",
    "        df['totalstrsales']=df['sales'].groupby(df['str_nbr']).transform('sum')\n",
    "    \n",
    "    return df\n"
   ]
  },
  {
   "cell_type": "code",
   "execution_count": 13,
   "metadata": {
    "collapsed": true
   },
   "outputs": [],
   "source": [
    "def calc_dept_pen(x):\n",
    "    \n",
    "    df = mutatecolumn(x,type='dept')\n",
    "    df['dept_pen'] = df['sales']/df['totaldeptsales']\n",
    "    \n",
    "    return df\n",
    "\n",
    "def mutatesalesdiff_dept(x,y):\n",
    "    \n",
    "    df1 = calc_dept_pen(x)\n",
    "    df2 = deptsalesdiff(x,y)\n",
    "    \n",
    "    a=pd.merge(df1,df2,on='deptclass',how='left')\n",
    "    a=pd.DataFrame(a)\n",
    "    return a"
   ]
  },
  {
   "cell_type": "markdown",
   "metadata": {},
   "source": [
    "### Declaring functions for applying absolute gross up methodology on SCH new to TSH"
   ]
  },
  {
   "cell_type": "code",
   "execution_count": 14,
   "metadata": {
    "collapsed": true
   },
   "outputs": [],
   "source": [
    "def totalstrsales(x):\n",
    "    \n",
    "    a=x[['str_nbr','sales']]\n",
    "    b=pd.DataFrame(a.groupby(['str_nbr'])['sales'].sum().reset_index())\n",
    "    \n",
    "    res=pd.DataFrame(b)\n",
    "    \n",
    "    return res\n",
    "\n",
    "def strsalesdiff(x,y):\n",
    "    \n",
    "    df1 = totalstrsales(x)\n",
    "    df2 = y\n",
    "    \n",
    "    res = pd.DataFrame(df1['str_nbr'])\n",
    "    res['strsalesdiff'] = df2.sales-df1.sales\n",
    "    \n",
    "    return res\n",
    "\n",
    "def calc_str_pen(x):\n",
    "    \n",
    "    df = mutatecolumn(x, type='store')\n",
    "    df['str_pen'] = df['sales']/df['totalstrsales']\n",
    "    \n",
    "    return df"
   ]
  },
  {
   "cell_type": "code",
   "execution_count": 15,
   "metadata": {
    "collapsed": true
   },
   "outputs": [],
   "source": [
    "def mutatesalesdiff_str(x,y):\n",
    "    \n",
    "    df1 = calc_str_pen(x)\n",
    "    df2 = strsalesdiff(x,y)\n",
    "    \n",
    "    a=pd.merge(df1,df2,on='str_nbr',how='left')\n",
    "    a=pd.DataFrame(a)\n",
    "    return a   "
   ]
  },
  {
   "cell_type": "markdown",
   "metadata": {},
   "source": [
    "### Function to calculate new sales using absolute gross up methodology"
   ]
  },
  {
   "cell_type": "code",
   "execution_count": 16,
   "metadata": {
    "collapsed": true
   },
   "outputs": [],
   "source": [
    "def newsales(x,y, type):\n",
    "    \n",
    "    if type=='dept':\n",
    "        \n",
    "        df = mutatesalesdiff_dept(x,y)\n",
    "        df['newsales0']=(df['dept_pen']*df['deptsalesdiff'])+df['sales']\n",
    "        df['newsales0']=df['newsales0']\n",
    "\n",
    "        df_res = df[['str_nbr','deptclass','newsales0']]\n",
    "        df_res.columns=['str_nbr', 'deptclass','sales']\n",
    "        res=pd.DataFrame(df_res)\n",
    "        \n",
    "    elif type=='store':\n",
    "        \n",
    "        df = mutatesalesdiff_str(x,y)\n",
    "        df['newsales0']=(df['str_pen']*df['strsalesdiff'])+df['sales']\n",
    "        df['newsales0']=df['newsales0']\n",
    "\n",
    "        df_res = df[['str_nbr','deptclass','newsales0']]\n",
    "        df_res.columns=['str_nbr', 'deptclass','sales']\n",
    "        res=pd.DataFrame(df_res )\n",
    "    \n",
    "    return res"
   ]
  },
  {
   "cell_type": "code",
   "execution_count": 17,
   "metadata": {
    "collapsed": true
   },
   "outputs": [],
   "source": [
    "sch=combinecolumn(sch)\n",
    "cch=combinecolumn(cch)"
   ]
  },
  {
   "cell_type": "code",
   "execution_count": 18,
   "metadata": {
    "collapsed": false
   },
   "outputs": [
    {
     "name": "stdout",
     "output_type": "stream",
     "text": [
      "cch_diff: 1411245; tsh_diff: 0\n",
      "cch_diff: 326385; tsh_diff: 0\n",
      "cch_diff: 82206; tsh_diff: 0\n",
      "cch_diff: 21544; tsh_diff: 0\n",
      "cch_diff: 5740; tsh_diff: 0\n",
      "cch_diff: 1541; tsh_diff: 0\n",
      "cch_diff: 415; tsh_diff: 0\n",
      "cch_diff: 112; tsh_diff: 0\n",
      "cch_diff: 30; tsh_diff: 0\n",
      "cch_diff: 8; tsh_diff: 0\n",
      "cch_diff: 2; tsh_diff: 0\n",
      "cch_diff: 0; tsh_diff: 0\n",
      "cch_diff: 0; tsh_diff: 0\n",
      "cch_diff: 0; tsh_diff: 0\n",
      "cch_diff: 0; tsh_diff: 0\n",
      "cch_diff: 0; tsh_diff: 0\n"
     ]
    }
   ],
   "source": [
    "tsh_diff=100\n",
    "cch_diff=100\n",
    "\n",
    "while any((tsh_diff > 0.01, cch_diff > 0.01)):\n",
    "    sch_cch=newsales(sch,cch,type='dept')\n",
    "    sch=sch_cch\n",
    "\n",
    "    sch_tsh=newsales(sch,tsh,type='store')\n",
    "    sch=sch_tsh\n",
    "\n",
    "    cch_diff=max(abs(deptsalesdiff(sch,cch)['deptsalesdiff']))\n",
    "    tsh_diff=max((abs(strsalesdiff(sch,tsh)['strsalesdiff'])))\n",
    "    \n",
    "    print('cch_diff: %d; tsh_diff: %d' %(cch_diff, tsh_diff))"
   ]
  }
 ],
 "metadata": {
  "anaconda-cloud": {},
  "kernelspec": {
   "display_name": "Python [Root]",
   "language": "python",
   "name": "Python [Root]"
  }
 },
 "nbformat": 4,
 "nbformat_minor": 0
}
