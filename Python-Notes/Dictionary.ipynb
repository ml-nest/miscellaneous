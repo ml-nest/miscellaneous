{
 "cells": [
  {
   "cell_type": "markdown",
   "metadata": {},
   "source": [
    "# Dictionary"
   ]
  },
  {
   "cell_type": "code",
   "execution_count": 157,
   "metadata": {},
   "outputs": [],
   "source": [
    "#Nested Dictionary in Python\n",
    "nested_dict = { 'dictA': {'key_1': 'value_1'},\n",
    "                'dictB': {'key_2': 'value_2'}}"
   ]
  },
  {
   "cell_type": "code",
   "execution_count": 158,
   "metadata": {},
   "outputs": [
    {
     "name": "stdout",
     "output_type": "stream",
     "text": [
      "John\n",
      "27\n",
      "Marie\n",
      "22\n"
     ]
    }
   ],
   "source": [
    "#Access elements of dictionary using indexing[]\n",
    "people = {1: {'name': 'John', 'age': '27', 'sex': 'Male'},\n",
    "          2: {'name': 'Marie', 'age': '22', 'sex': 'Female'}}\n",
    "\n",
    "\n",
    "\n",
    "\n",
    "print(people[1]['name'])\n",
    "print(people[1]['age'])\n",
    "print(people[2]['name'])\n",
    "print(people[2]['age'])"
   ]
  },
  {
   "cell_type": "code",
   "execution_count": 159,
   "metadata": {
    "scrolled": true
   },
   "outputs": [
    {
     "name": "stdout",
     "output_type": "stream",
     "text": [
      "{'name': 'Luna', 'age': '24', 'sex': 'Female', 'married': 'No'}\n",
      "{1: {'name': 'John', 'age': '27', 'sex': 'Male'}, 2: {'name': 'Marie', 'age': '22', 'sex': 'Female'}, 3: {'name': 'Luna', 'age': '24', 'sex': 'Female', 'married': 'No'}}\n"
     ]
    }
   ],
   "source": [
    "#add element to a nested dictionary\n",
    "people = {1: {'name': 'John', 'age': '27', 'sex': 'Male'},\n",
    "          2: {'name': 'Marie', 'age': '22', 'sex': 'Female'}}\n",
    "\n",
    "\n",
    "\n",
    "people[3] = {}\n",
    "people[3]['name'] = 'Luna'\n",
    "people[3]['age'] = '24'\n",
    "people[3]['sex'] = 'Female'\n",
    "people[3]['married'] = 'No'\n",
    "\n",
    "\n",
    "print(people[3])\n",
    "print(people)"
   ]
  },
  {
   "cell_type": "code",
   "execution_count": 160,
   "metadata": {},
   "outputs": [
    {
     "data": {
      "text/plain": [
       "dict_keys(['name', 'age', 'sex'])"
      ]
     },
     "execution_count": 160,
     "metadata": {},
     "output_type": "execute_result"
    }
   ],
   "source": [
    "people[1].keys()"
   ]
  },
  {
   "cell_type": "code",
   "execution_count": 12,
   "metadata": {},
   "outputs": [
    {
     "name": "stdout",
     "output_type": "stream",
     "text": [
      "\n",
      "Person ID: 1\n"
     ]
    },
    {
     "ename": "KeyError",
     "evalue": "1",
     "output_type": "error",
     "traceback": [
      "\u001b[1;31m---------------------------------------------------------------------------\u001b[0m",
      "\u001b[1;31mKeyError\u001b[0m                                  Traceback (most recent call last)",
      "\u001b[1;32m<ipython-input-12-d206d85a681c>\u001b[0m in \u001b[0;36m<module>\u001b[1;34m\u001b[0m\n\u001b[0;32m      7\u001b[0m     \u001b[0mprint\u001b[0m\u001b[1;33m(\u001b[0m\u001b[1;34m\"\\nPerson ID:\"\u001b[0m\u001b[1;33m,\u001b[0m \u001b[0mx\u001b[0m\u001b[1;33m)\u001b[0m\u001b[1;33m\u001b[0m\u001b[1;33m\u001b[0m\u001b[0m\n\u001b[0;32m      8\u001b[0m     \u001b[1;32mfor\u001b[0m \u001b[0mz\u001b[0m \u001b[1;32min\u001b[0m \u001b[0my\u001b[0m\u001b[1;33m:\u001b[0m\u001b[1;33m\u001b[0m\u001b[1;33m\u001b[0m\u001b[0m\n\u001b[1;32m----> 9\u001b[1;33m         \u001b[0mprint\u001b[0m\u001b[1;33m(\u001b[0m\u001b[0mz\u001b[0m \u001b[1;33m+\u001b[0m \u001b[1;34m':'\u001b[0m \u001b[1;33m+\u001b[0m\u001b[0my\u001b[0m\u001b[1;33m[\u001b[0m\u001b[1;36m1\u001b[0m\u001b[1;33m]\u001b[0m\u001b[1;33m)\u001b[0m\u001b[1;33m\u001b[0m\u001b[1;33m\u001b[0m\u001b[0m\n\u001b[0m\u001b[0;32m     10\u001b[0m         \u001b[0my\u001b[0m\u001b[1;33m\u001b[0m\u001b[1;33m\u001b[0m\u001b[0m\n",
      "\u001b[1;31mKeyError\u001b[0m: 1"
     ]
    }
   ],
   "source": [
    "#Iterating Through a Nested Dictionary\n",
    "people = {1: {'Name': 'John', 'Age': '27', 'Sex': 'Male'},\n",
    "          2: {'Name': 'Marie', 'Age': '22', 'Sex': 'Female'}}\n",
    "\n",
    "\n",
    "for x, y in people.items():\n",
    "    print(\"\\nPerson ID:\", x)\n",
    "    for z in y:\n",
    "        print(z + ':' +y[1])\n",
    "        y "
   ]
  },
  {
   "cell_type": "code",
   "execution_count": null,
   "metadata": {},
   "outputs": [],
   "source": [
    "#Dictionary comprehension (replace for and lamda)\n",
    "numbers = range(10)\n",
    "new_dict_for = {}\n",
    "# Add values to `new_dict` using for loop\n",
    "for n in numbers:\n",
    "    if n%2==0:\n",
    "        new_dict_for[n] = n**2\n",
    "print(new_dict_for)\n",
    "\n",
    "\n",
    "\n",
    "\n",
    "#Use dictionary comprahension for the above\n",
    "new_dict_comp = {n:n**2 for n in numbers if n%2 == 0}\n",
    "new_dict_comp\n",
    "\n",
    "new_dict_comp = {n:n**2 for n in numbers if n%2 == 0 if n>2}\n",
    "new_dict_comp\n",
    "\n",
    "##Alternative to lambda function\n",
    "\n",
    "\n",
    "\n",
    "# Initialize `fahrenheit` dictionary\n",
    "fahrenheit = {'t1':-30, 't2':-20, 't3':-10, 't4':0}\n",
    "\n",
    "\n",
    "celsius = list(map(lambda x: (float(5)/9)*(x-32), fahrenheit.values()))\n",
    "\n",
    "fahrenheit.items()\n",
    "\n",
    "fahrenheit.values()\n",
    "\n",
    "fahrenheit.keys()\n",
    "\n",
    "celsius\n",
    "\n",
    "#Create the `celsius` dictionary\n",
    "celsius_dict = dict(zip(fahrenheit.keys(), celsius))\n",
    "\n",
    "\n",
    "celsius_dict\n",
    "\n",
    "#using dictionary comprehension:(above problem)\n",
    "\n",
    "# Initialize the `fahrenheit` dictionary \n",
    "fahrenheit = {'t1': -30,'t2': -20,'t3': -10,'t4': 0}\n",
    "\n",
    "# Get the corresponding `celsius` values and create the new dictionary\n",
    "celsius_dict = {k:(float(5)/9)*(v-32) for (k,v) in fahrenheit.items()}\n",
    "print(celsius_dict)\n",
    "\n",
    "#add condition to dictionary comprehension\n",
    "dict1 = {'a': 1, 'b': 2, 'c': 3, 'd': 4, 'e': 5}\n",
    "\n",
    "# Check for items greater than 2\n",
    "dict1_cond = {k:v for (k,v) in dict1.items() if v>2}\n",
    "\n",
    "\n",
    "dict1_cond\n",
    "\n",
    "#multiple conditions(two conditions)\n",
    "dict1_doubleCond = {k:v for (k,v) in dict1.items() if v>2 if v%2 == 0}\n",
    "\n",
    "dict1_doubleCond\n",
    "\n",
    "dict1 = {'a': 1, 'b': 2, 'c': 3, 'd': 4, 'e': 5, 'f':6}\n",
    "\n",
    "\n",
    "#(3conditions)\n",
    "dict1_tripleCond = {k:v for (k,v) in dict1.items() if v>2 if v%2 == 0 if v%3 == 0}\n",
    "print(dict1_tripleCond)\n",
    "\n",
    "#using the for loop solving the above\n",
    "dict1_tripleCond = {}\n",
    "\n",
    "for (k,v) in dict1.items():\n",
    "    if (v>=2 and v%2 == 0 and v%3 == 0):\n",
    "            dict1_tripleCond[k] = v\n",
    "print(dict1_tripleCond)\n",
    "\n",
    "\n",
    "#If-Else Conditions\n",
    "dict1 = {'a': 1, 'b': 2, 'c': 3, 'd': 4, 'e': 5, 'f':6}\n",
    "\n",
    "dict1_tripleCond = {k:('even' if v%2==0 else 'odd') for (k,v) in dict1.items()}\n",
    "print(dict1_tripleCond)\n",
    "\n",
    "\n",
    "#dictionary from numbers\n",
    "\n",
    "numbers = range(10)\n",
    "new_dict_for = {}\n",
    "\n",
    "\n",
    "new_dict_comp = {n:('even' if n%2==0 else 'odd') for n in numbers}\n",
    "\n",
    "new_dict_comp\n",
    "\n",
    "#Dictionary comprahension using zip object\n",
    "L1=['a','b','c','d']\n",
    "L2=[1,2,3,4]\n",
    "d={k:v for (k,v) in zip(L1,L2)}\n",
    "d\n",
    "\n",
    "# Double each value in the dictionary\n",
    "dict1 = {'a': 1, 'b': 2, 'c': 3, 'd': 4, 'e': 5}\n",
    "double_dict1 = {k:v*2 for (k,v) in dict1.items()}\n",
    "print(double_dict1)"
   ]
  }
 ],
 "metadata": {
  "kernelspec": {
   "display_name": "Python 3",
   "language": "python",
   "name": "python3"
  },
  "language_info": {
   "codemirror_mode": {
    "name": "ipython",
    "version": 3
   },
   "file_extension": ".py",
   "mimetype": "text/x-python",
   "name": "python",
   "nbconvert_exporter": "python",
   "pygments_lexer": "ipython3",
   "version": "3.7.3"
  }
 },
 "nbformat": 4,
 "nbformat_minor": 2
}
