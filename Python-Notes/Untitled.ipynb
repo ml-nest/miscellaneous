{
 "cells": [
  {
   "cell_type": "code",
   "execution_count": 1,
   "metadata": {},
   "outputs": [
    {
     "name": "stdout",
     "output_type": "stream",
     "text": [
      "C:\\Users\\Bharat Anand\\AppData\\Local\\Programs\\Python\\Python37-32\\Scripts\\GIT\\Python-Notes\n"
     ]
    }
   ],
   "source": [
    "import pandas as pd\n",
    "import os\n",
    "import numpy as np\n",
    "print(os.getcwd())"
   ]
  },
  {
   "cell_type": "code",
   "execution_count": 2,
   "metadata": {},
   "outputs": [],
   "source": [
    "tsh=pd.read_csv('C:\\\\Users\\\\Bharat Anand\\\\Desktop\\\\TSH.csv')\n",
    "# tsh.shape\n",
    "tsh.columns = [x.lower() for x in tsh.columns]\n",
    "tsh['sales']=tsh['sales'].astype(float)"
   ]
  },
  {
   "cell_type": "code",
   "execution_count": 9,
   "metadata": {},
   "outputs": [],
   "source": [
    "store_sales = tsh"
   ]
  },
  {
   "cell_type": "code",
   "execution_count": 3,
   "metadata": {},
   "outputs": [],
   "source": [
    "cch=pd.read_csv('C:\\\\Users\\\\Bharat Anand\\\\Desktop\\\\CCH.csv')\n",
    "cch.columns = [x.lower() for x in cch.columns]\n",
    "cch1=cch[:]\n",
    "cch1['sales']=cch1['sales'].astype(float)"
   ]
  },
  {
   "cell_type": "code",
   "execution_count": 10,
   "metadata": {},
   "outputs": [],
   "source": [
    "dept_sales = cch"
   ]
  },
  {
   "cell_type": "code",
   "execution_count": 4,
   "metadata": {},
   "outputs": [],
   "source": [
    "sch=pd.read_csv('C:\\\\Users\\\\Bharat Anand\\\\Desktop\\\\SCH.csv')\n",
    "sch.columns = [x.lower() for x in sch.columns]\n",
    "sch1=sch[:]\n",
    "sch1['sales']=sch1['sales'].astype(float)"
   ]
  },
  {
   "cell_type": "code",
   "execution_count": 8,
   "metadata": {},
   "outputs": [],
   "source": [
    "store_dept_sales_initial = sch"
   ]
  },
  {
   "cell_type": "code",
   "execution_count": 11,
   "metadata": {},
   "outputs": [],
   "source": [
    "\n",
    "#Joining store_sales table with store_dept_sales\n",
    "store_dept_sales_initial = pd.merge(store_dept_sales_initial,store_sales[['str_nbr','sales']], on = 'str_nbr', how = 'left')\n",
    "store_dept_sales = pd.merge(store_dept_sales_initial,dept_sales[['deptclass','sales']], on = 'deptclass', how = 'left')\n"
   ]
  },
  {
   "cell_type": "code",
   "execution_count": null,
   "metadata": {},
   "outputs": [],
   "source": [
    "\n",
    "\n",
    "\n",
    "\n",
    "\n",
    "\n",
    "# error = 10\n",
    "for k in range(100):\n",
    "    contribution_store = []\n",
    "    for i in range(len(store_dept_sales['str_nbr'])):\n",
    "        contribution_store.append(float(store_dept_sales.iloc[i,2])/float(store_dept_sales.groupby('str_nbr').get_group(store_dept_sales.iloc[i,0])['sales'].sum()))\n",
    "    \n",
    "    for i in range(len(store_dept_sales['str_nbr'])):\n",
    "        store_dept_sales.iloc[i,2] = float(store_dept_sales.iloc[i,3])*float(contribution_store[i])\n",
    "    \n",
    "    contribution_dept = []\n",
    "    for i in range(len(store_dept_sales['deptclass'])):\n",
    "        contribution_dept.append(float(store_dept_sales.iloc[i,2])/float(store_dept_sales.groupby('deptclass').get_group(store_dept_sales.iloc[i,1])['sales'].sum()))\n",
    "    \n",
    "    for i in range(len(store_dept_sales['str_nbr'])):\n",
    "        store_dept_sales.iloc[i,2] = float(store_dept_sales.iloc[i,4])*float(contribution_dept[i])\n",
    "\n",
    "    store_error = []\n",
    "    for i in range(len(store_sales)):\n",
    "        store_error.append(((store_dept_sales.groupby('str_nbr').get_group(store_sales.iloc[i,0])['sales'].sum()) - store_sales.iloc[i,1])**2)\n",
    "    \n",
    "    dept_error = []\n",
    "    for i in range(len(dept_sales)):\n",
    "        dept_error.append(((store_dept_sales.groupby('deptclass').get_group(dept_sales.iloc[i,0])['sales'].sum()) - dept_sales.iloc[i,1])**2)\n",
    "    \n",
    "    error = math.sqrt(sum(store_error)+sum(dept_error))"
   ]
  },
  {
   "cell_type": "code",
   "execution_count": 15,
   "metadata": {},
   "outputs": [
    {
     "data": {
      "text/plain": [
       "10"
      ]
     },
     "execution_count": 15,
     "metadata": {},
     "output_type": "execute_result"
    }
   ],
   "source": [
    "error"
   ]
  }
 ],
 "metadata": {
  "kernelspec": {
   "display_name": "Python 3",
   "language": "python",
   "name": "python3"
  },
  "language_info": {
   "codemirror_mode": {
    "name": "ipython",
    "version": 3
   },
   "file_extension": ".py",
   "mimetype": "text/x-python",
   "name": "python",
   "nbconvert_exporter": "python",
   "pygments_lexer": "ipython3",
   "version": "3.7.3"
  }
 },
 "nbformat": 4,
 "nbformat_minor": 2
}
